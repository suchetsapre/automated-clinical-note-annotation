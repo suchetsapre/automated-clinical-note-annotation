{
 "cells": [
  {
   "cell_type": "code",
   "execution_count": 1,
   "metadata": {},
   "outputs": [
    {
     "name": "stderr",
     "output_type": "stream",
     "text": [
      "C:\\app\\Anaconda3\\lib\\site-packages\\gensim\\utils.py:1197: UserWarning: detected Windows; aliasing chunkize to chunkize_serial\n",
      "  warnings.warn(\"detected Windows; aliasing chunkize to chunkize_serial\")\n",
      "Using TensorFlow backend.\n"
     ]
    }
   ],
   "source": [
    "\n",
    "import numpy as np\n",
    "from sklearn.model_selection import train_test_split\n",
    "import matplotlib.pyplot as plt\n",
    "import pickle\n",
    "from tensorflow.keras.models import Sequential\n",
    "from tensorflow.keras import layers\n",
    "from tensorflow import keras\n",
    "from sklearn.metrics import roc_curve\n",
    "from sklearn.metrics import auc\n",
    "import seaborn as sns\n",
    "from sklearn.preprocessing import normalize\n",
    "from tensorflow.keras.callbacks import ModelCheckpoint\n",
    "from sklearn.metrics import classification_report"
   ]
  },
  {
   "cell_type": "code",
   "execution_count": 4,
   "metadata": {},
   "outputs": [],
   "source": [
    "# doc2vec_model = gensim.models.doc2vec.Doc2Vec.load('docembeddings_dim_400_window_10')"
   ]
  },
  {
   "cell_type": "code",
   "execution_count": 7,
   "metadata": {},
   "outputs": [],
   "source": [
    "with open('Doc2Vec_X_data.pkl', 'rb') as f:\n",
    "    X_data = pickle.load(f)\n",
    "with open('Doc2Vec_y_data_all_toxicity.pkl', 'rb') as f:\n",
    "    y_data = pickle.load(f)\n",
    "with open('Doc2Vec_y_data_colitis.pkl', 'rb') as f:\n",
    "    y_data_colitis = pickle.load(f)"
   ]
  },
  {
   "cell_type": "code",
   "execution_count": 70,
   "metadata": {},
   "outputs": [],
   "source": [
    "X_train, X_test, y_train, y_test = train_test_split(X_data, y_data_colitis, test_size=0.2)"
   ]
  },
  {
   "cell_type": "code",
   "execution_count": 110,
   "metadata": {},
   "outputs": [
    {
     "data": {
      "text/plain": [
       "700"
      ]
     },
     "execution_count": 110,
     "metadata": {},
     "output_type": "execute_result"
    }
   ],
   "source": [
    "list(y_data_colitis).count(0)"
   ]
  },
  {
   "cell_type": "code",
   "execution_count": null,
   "metadata": {},
   "outputs": [],
   "source": []
  },
  {
   "cell_type": "code",
   "execution_count": 129,
   "metadata": {},
   "outputs": [],
   "source": [
    "def smart_sample(X_train, y_train, num_positive, num_negative):\n",
    "    X_train_positives = np.asarray([X_train[i] for i in range(X_train.shape[0]) if y_train[i] == 1])\n",
    "    y_train_positives = np.asarray([y_train[i] for i in range(y_train.shape[0]) if y_train[i] == 1])\n",
    "    X_train_negatives = np.asarray([X_train[i] for i in range(X_train.shape[0]) if y_train[i] == 0])\n",
    "    y_train_negatives = np.asarray([y_train[i] for i in range(y_train.shape[0]) if y_train[i] == 0])\n",
    "    \n",
    "    percent_positive = num_positive/X_train_positives.shape[0]\n",
    "    percent_negative = num_negative/X_train_negatives.shape[0]\n",
    "    \n",
    "    mask_positive = np.random.choice([False, True], len(X_train_positives), p=[1-percent_positive, percent_positive])\n",
    "    mask_negative = np.random.choice([False, True], len(X_train_negatives), p=[1-percent_negative, percent_negative])\n",
    "    \n",
    "    X_train_positives_sampled = X_train_positives[mask_positive]\n",
    "    y_train_positives_sampled = y_train_positives[mask_positive]\n",
    "    X_train_negatives_sampled = X_train_negatives[mask_negative]\n",
    "    y_train_negatives_sampled = y_train_negatives[mask_negative]\n",
    "    \n",
    "    X_data_smart_sampled = np.concatenate((X_train_positives_sampled, X_train_negatives_sampled), axis=0)\n",
    "    y_data_smart_sampled = np.concatenate((y_train_positives_sampled, y_train_negatives_sampled), axis=0)\n",
    "    \n",
    "    data_sampled = np.column_stack( (X_data_smart_sampled, y_data_smart_sampled) )\n",
    "    np.random.shuffle(data_sampled)\n",
    "    X_train_sampled, y_train_sampled = data_sampled[:, 0 : data_sampled.shape[1]-1], data_sampled[:, data_sampled.shape[1]-1].ravel()\n",
    "\n",
    "    return X_train_sampled, y_train_sampled\n",
    "\n",
    "    "
   ]
  },
  {
   "cell_type": "code",
   "execution_count": 196,
   "metadata": {},
   "outputs": [],
   "source": [
    "# there are 66 1's in training data\n",
    "X_train_sampled, y_train_sampled = smart_sample(X_train, y_train, 61, 61)"
   ]
  },
  {
   "cell_type": "code",
   "execution_count": 197,
   "metadata": {},
   "outputs": [
    {
     "data": {
      "text/plain": [
       "array([0., 1., 1., 1., 0., 1., 1., 0., 1., 1., 0., 0., 1., 1., 0., 0., 0.,\n",
       "       1., 0., 1., 1., 0., 0., 0., 0., 0., 1., 1., 0., 0., 0., 1., 0., 1.,\n",
       "       1., 0., 0., 0., 1., 0., 0., 0., 1., 0., 1., 0., 0., 0., 0., 1., 0.,\n",
       "       0., 1., 1., 0., 0., 0., 1., 1., 0., 0., 1., 0., 0., 1., 0., 1., 1.,\n",
       "       0., 0., 1., 1., 1., 0., 1., 0., 0., 0., 1., 1., 0., 0., 0., 1., 1.,\n",
       "       1., 1., 0., 0., 0., 0., 1., 1., 1., 1., 0., 0., 0., 0., 1., 1., 1.,\n",
       "       0., 0., 1., 1., 1., 0., 0., 1., 1., 0., 1., 1., 0., 0., 0., 0., 1.,\n",
       "       0., 1., 1., 1., 0., 0., 1., 0., 0., 1., 1., 1.])"
      ]
     },
     "execution_count": 197,
     "metadata": {},
     "output_type": "execute_result"
    }
   ],
   "source": [
    "y_train_sampled"
   ]
  },
  {
   "cell_type": "code",
   "execution_count": 44,
   "metadata": {},
   "outputs": [],
   "source": [
    "def plot_history(history):\n",
    "    ''' A method taken from https://realpython.com/python-keras-text-classification/#what-is-a-word-embedding that\n",
    "        effectively plots the training and validation accuracy and loss data and diplays it. '''\n",
    "    acc = history.history['acc']\n",
    "    val_acc = history.history['val_acc']\n",
    "    loss = history.history['loss']\n",
    "    val_loss = history.history['val_loss']\n",
    "    x = range(1, len(acc) + 1)\n",
    "    plt.figure(figsize=(12, 5))\n",
    "    plt.subplot(1, 2, 1)\n",
    "    plt.plot(x, acc, 'b', label='Training acc')\n",
    "    plt.plot(x, val_acc, 'r', label='Validation acc')\n",
    "    plt.title('Training and validation accuracy')\n",
    "    plt.legend()\n",
    "    plt.subplot(1, 2, 2)\n",
    "    plt.plot(x, loss, 'b', label='Training loss')\n",
    "    plt.plot(x, val_loss, 'r', label='Validation loss')\n",
    "    plt.title('Training and validation loss')\n",
    "    plt.legend()"
   ]
  },
  {
   "cell_type": "code",
   "execution_count": 84,
   "metadata": {},
   "outputs": [],
   "source": [
    "weights = {0:0.01, 1:100000}"
   ]
  },
  {
   "cell_type": "code",
   "execution_count": 85,
   "metadata": {},
   "outputs": [],
   "source": [
    "patience = keras.callbacks.EarlyStopping(monitor='val_loss',\n",
    "                              min_delta=0,\n",
    "                              patience=20,\n",
    "                              verbose=0, mode='min')\n",
    "filepath = 'Doc2VecNN_CW.h5'\n",
    "checkpoint = ModelCheckpoint(filepath, monitor='val_loss', verbose=2, save_best_only=True, mode='min')\n",
    "\n",
    "#Creation of the neural network with the pretrained embedding matrix.\n",
    "model = Sequential()\n",
    "model.add(layers.Dense(200, activation='relu'))\n",
    "model.add(layers.Dropout(0.5))\n",
    "model.add(layers.Dense(50, activation='relu'))\n",
    "model.add(layers.Dropout(0.5))\n",
    "model.add(layers.Dense(1, activation='sigmoid'))\n",
    "model.compile(optimizer='adam',\n",
    "              loss='binary_crossentropy',\n",
    "              metrics=['accuracy'])#, keras_metrics.precision(), keras_metrics.recall()])\n",
    "#model.summary()"
   ]
  },
  {
   "cell_type": "code",
   "execution_count": 86,
   "metadata": {},
   "outputs": [
    {
     "name": "stdout",
     "output_type": "stream",
     "text": [
      "Train on 623 samples, validate on 156 samples\n",
      "Epoch 1/60\n",
      "\n",
      "Epoch 00001: val_loss improved from inf to 0.37150, saving model to Doc2VecNN_CW.h5\n",
      " - 3s - loss: 0.4036 - acc: 0.8812 - val_loss: 0.3715 - val_acc: 0.8846\n",
      "Epoch 2/60\n",
      "\n",
      "Epoch 00002: val_loss did not improve from 0.37150\n",
      " - 2s - loss: 0.3471 - acc: 0.9021 - val_loss: 0.3850 - val_acc: 0.8846\n",
      "Epoch 3/60\n",
      "\n",
      "Epoch 00003: val_loss did not improve from 0.37150\n",
      " - 2s - loss: 0.3211 - acc: 0.9021 - val_loss: 0.3717 - val_acc: 0.8782\n",
      "Epoch 4/60\n",
      "\n",
      "Epoch 00004: val_loss did not improve from 0.37150\n",
      " - 2s - loss: 0.3043 - acc: 0.9037 - val_loss: 0.3947 - val_acc: 0.8846\n",
      "Epoch 5/60\n",
      "\n",
      "Epoch 00005: val_loss did not improve from 0.37150\n",
      " - 2s - loss: 0.2870 - acc: 0.9117 - val_loss: 0.3892 - val_acc: 0.8846\n",
      "Epoch 6/60\n",
      "\n",
      "Epoch 00006: val_loss did not improve from 0.37150\n",
      " - 2s - loss: 0.2864 - acc: 0.9037 - val_loss: 0.4058 - val_acc: 0.8846\n",
      "Epoch 7/60\n",
      "\n",
      "Epoch 00007: val_loss did not improve from 0.37150\n",
      " - 2s - loss: 0.2426 - acc: 0.9037 - val_loss: 0.4033 - val_acc: 0.8846\n",
      "Epoch 8/60\n",
      "\n",
      "Epoch 00008: val_loss did not improve from 0.37150\n",
      " - 2s - loss: 0.2400 - acc: 0.9101 - val_loss: 0.4567 - val_acc: 0.8846\n",
      "Epoch 9/60\n",
      "\n",
      "Epoch 00009: val_loss did not improve from 0.37150\n",
      " - 2s - loss: 0.2239 - acc: 0.9246 - val_loss: 0.4390 - val_acc: 0.8846\n",
      "Epoch 10/60\n",
      "\n",
      "Epoch 00010: val_loss did not improve from 0.37150\n",
      " - 2s - loss: 0.1978 - acc: 0.9326 - val_loss: 0.5217 - val_acc: 0.8846\n",
      "Epoch 11/60\n",
      "\n",
      "Epoch 00011: val_loss did not improve from 0.37150\n",
      " - 2s - loss: 0.2070 - acc: 0.9165 - val_loss: 0.4758 - val_acc: 0.8846\n",
      "Epoch 12/60\n",
      "\n",
      "Epoch 00012: val_loss did not improve from 0.37150\n",
      " - 2s - loss: 0.2026 - acc: 0.9278 - val_loss: 0.4929 - val_acc: 0.8782\n",
      "Epoch 13/60\n",
      "\n",
      "Epoch 00013: val_loss did not improve from 0.37150\n",
      " - 2s - loss: 0.1905 - acc: 0.9342 - val_loss: 0.5382 - val_acc: 0.8718\n",
      "Epoch 14/60\n",
      "\n",
      "Epoch 00014: val_loss did not improve from 0.37150\n",
      " - 2s - loss: 0.1636 - acc: 0.9262 - val_loss: 0.6652 - val_acc: 0.8654\n",
      "Epoch 15/60\n",
      "\n",
      "Epoch 00015: val_loss did not improve from 0.37150\n",
      " - 2s - loss: 0.1479 - acc: 0.9374 - val_loss: 0.6881 - val_acc: 0.8782\n",
      "Epoch 16/60\n",
      "\n",
      "Epoch 00016: val_loss did not improve from 0.37150\n",
      " - 2s - loss: 0.1429 - acc: 0.9438 - val_loss: 0.6948 - val_acc: 0.8718\n",
      "Epoch 17/60\n",
      "\n",
      "Epoch 00017: val_loss did not improve from 0.37150\n",
      " - 2s - loss: 0.1355 - acc: 0.9470 - val_loss: 0.7552 - val_acc: 0.8654\n",
      "Epoch 18/60\n",
      "\n",
      "Epoch 00018: val_loss did not improve from 0.37150\n",
      " - 2s - loss: 0.1251 - acc: 0.9583 - val_loss: 0.7910 - val_acc: 0.8462\n",
      "Epoch 19/60\n",
      "\n",
      "Epoch 00019: val_loss did not improve from 0.37150\n",
      " - 2s - loss: 0.1290 - acc: 0.9518 - val_loss: 0.7559 - val_acc: 0.8718\n",
      "Epoch 20/60\n",
      "\n",
      "Epoch 00020: val_loss did not improve from 0.37150\n",
      " - 2s - loss: 0.1091 - acc: 0.9551 - val_loss: 0.8498 - val_acc: 0.8718\n",
      "Epoch 21/60\n",
      "\n",
      "Epoch 00021: val_loss did not improve from 0.37150\n",
      " - 2s - loss: 0.1146 - acc: 0.9631 - val_loss: 0.7370 - val_acc: 0.8654\n"
     ]
    }
   ],
   "source": [
    "history = model.fit(X_train, y_train,\n",
    "                    batch_size=1,\n",
    "                    epochs=60,\n",
    "                    verbose=2,\n",
    "                    validation_data=(X_test, y_test),\n",
    "                    class_weight=weights,\n",
    "                   callbacks=[patience, checkpoint])"
   ]
  },
  {
   "cell_type": "code",
   "execution_count": 78,
   "metadata": {
    "scrolled": true
   },
   "outputs": [
    {
     "data": {
      "image/png": "[encoded data removed]",
      "text/plain": [
       "<Figure size 864x360 with 2 Axes>"
      ]
     },
     "metadata": {
      "needs_background": "light"
     },
     "output_type": "display_data"
    }
   ],
   "source": [
    "plot_history(history)"
   ]
  },
  {
   "cell_type": "code",
   "execution_count": 79,
   "metadata": {},
   "outputs": [
    {
     "name": "stdout",
     "output_type": "stream",
     "text": [
      "WARNING:tensorflow:Sequential models without an `input_shape` passed to the first layer cannot reload their optimizer state. As a result, your model isstarting with a freshly initialized optimizer.\n"
     ]
    }
   ],
   "source": [
    "#model.save('doc2vec_neuralnetwork_classifier.h5') \n",
    "model = keras.models.load_model(filepath)"
   ]
  },
  {
   "cell_type": "code",
   "execution_count": 101,
   "metadata": {},
   "outputs": [],
   "source": [
    "y_pred = np.around(model.predict(X_test, batch_size=32), decimals=0)\n",
    "y_pred_thresh = [i for i in y_pred if i > 0.2]"
   ]
  },
  {
   "cell_type": "code",
   "execution_count": 95,
   "metadata": {},
   "outputs": [
    {
     "data": {
      "text/plain": [
       "array([0.006, 0.002, 0.396, 0.036, 0.848, 0.034, 0.029, 0.01 , 0.003,\n",
       "       0.   , 0.009, 0.   , 0.001, 0.   , 0.007, 0.034, 0.188, 0.003,\n",
       "       0.001, 0.002, 0.   , 0.   , 0.001, 0.019, 0.   , 0.   , 0.   ,\n",
       "       0.   , 0.001, 0.   , 0.001, 0.372, 0.246, 0.111, 0.   , 0.763,\n",
       "       0.   , 0.   , 0.075, 0.138, 0.   , 0.   , 0.005, 0.   , 0.084,\n",
       "       0.245, 0.016, 0.003, 0.011, 0.001, 0.001, 0.001, 0.002, 0.012,\n",
       "       0.012, 0.008, 0.008, 0.209, 0.025, 0.007, 0.   , 0.094, 0.   ,\n",
       "       0.013, 0.036, 0.001, 0.079, 0.191, 0.   , 0.047, 0.   , 0.316,\n",
       "       0.155, 0.21 , 0.   , 0.036, 0.   , 0.   , 0.655, 0.148, 0.   ,\n",
       "       0.002, 0.   , 0.147, 0.   , 0.42 , 0.01 , 0.   , 0.   , 0.   ,\n",
       "       0.   , 0.   , 0.001, 0.008, 0.062, 0.001, 0.001, 0.   , 0.001,\n",
       "       0.092, 0.003, 0.742, 0.   , 0.018, 0.205, 0.06 , 0.322, 0.008,\n",
       "       0.   , 0.47 , 0.   , 0.029, 0.001, 0.   , 0.   , 0.001, 0.   ,\n",
       "       0.059, 0.001, 0.015, 0.312, 0.   , 0.168, 0.01 , 0.   , 0.   ,\n",
       "       0.643, 0.256, 0.001, 0.011, 0.   , 0.025, 0.605, 0.   , 0.013,\n",
       "       0.6  , 0.001, 0.019, 0.012, 0.   , 0.008, 0.001, 0.063, 0.003,\n",
       "       0.001, 0.   , 0.041, 0.009, 0.011, 0.   , 0.006, 0.   , 0.004,\n",
       "       0.001, 0.003, 0.001], dtype=float32)"
      ]
     },
     "execution_count": 95,
     "metadata": {},
     "output_type": "execute_result"
    }
   ],
   "source": [
    "y_pred.ravel()"
   ]
  },
  {
   "cell_type": "code",
   "execution_count": 91,
   "metadata": {},
   "outputs": [
    {
     "data": {
      "text/plain": [
       "array([0, 0, 0, 0, 0, 1, 0, 0, 0, 0, 0, 1, 0, 0, 0, 0, 0, 0, 0, 0, 0, 0,\n",
       "       0, 0, 0, 0, 1, 0, 1, 0, 0, 1, 0, 1, 0, 0, 1, 0, 0, 0, 0, 0, 0, 0,\n",
       "       0, 0, 0, 0, 1, 1, 0, 0, 0, 0, 0, 0, 0, 0, 0, 0, 0, 0, 0, 0, 1, 0,\n",
       "       0, 0, 0, 0, 0, 0, 0, 0, 0, 0, 0, 0, 0, 0, 0, 0, 0, 0, 0, 0, 0, 0,\n",
       "       0, 0, 0, 0, 0, 0, 0, 0, 1, 0, 0, 0, 0, 1, 0, 0, 0, 0, 0, 0, 0, 0,\n",
       "       0, 0, 1, 1, 0, 0, 0, 0, 0, 0, 0, 0, 0, 1, 0, 0, 0, 0, 0, 0, 1, 0,\n",
       "       0, 0, 0, 1, 0, 0, 0, 0, 0, 0, 1, 0, 0, 0, 0, 0, 0, 0, 0, 0, 0, 0,\n",
       "       0, 0], dtype=int64)"
      ]
     },
     "execution_count": 91,
     "metadata": {},
     "output_type": "execute_result"
    }
   ],
   "source": [
    "y_test"
   ]
  },
  {
   "cell_type": "code",
   "execution_count": 92,
   "metadata": {},
   "outputs": [
    {
     "name": "stdout",
     "output_type": "stream",
     "text": [
      "              precision    recall  f1-score   support\n",
      "\n",
      "           0   0.892617  0.963768  0.926829       138\n",
      "           1   0.285714  0.111111  0.160000        18\n",
      "\n",
      "    accuracy                       0.865385       156\n",
      "   macro avg   0.589166  0.537440  0.543415       156\n",
      "weighted avg   0.822590  0.865385  0.838349       156\n",
      "\n"
     ]
    }
   ],
   "source": [
    "print(classification_report(y_test, y_pred, digits=6))"
   ]
  },
  {
   "cell_type": "code",
   "execution_count": 96,
   "metadata": {},
   "outputs": [],
   "source": [
    "y_pred_keras = model.predict(X_test).ravel()\n",
    "fpr_keras, tpr_keras, thresholds_keras = roc_curve(y_test, y_pred_keras)\n",
    "auc_keras = auc(fpr_keras, tpr_keras)"
   ]
  },
  {
   "cell_type": "code",
   "execution_count": 105,
   "metadata": {},
   "outputs": [
    {
     "data": {
      "image/png": "[encoded data removed]",
      "text/plain": [
       "<Figure size 432x288 with 1 Axes>"
      ]
     },
     "metadata": {
      "needs_background": "light"
     },
     "output_type": "display_data"
    }
   ],
   "source": [
    "SMALL_SIZE = 14\n",
    "MEDIUM_SIZE = 17\n",
    "BIGGER_SIZE = 50\n",
    "\n",
    "plt.rc('font', size=SMALL_SIZE)          # controls default text sizes\n",
    "plt.rc('axes', titlesize=SMALL_SIZE)     # fontsize of the axes title\n",
    "plt.rc('axes', labelsize=MEDIUM_SIZE)    # fontsize of the x and y labels\n",
    "plt.rc('xtick', labelsize=SMALL_SIZE)    # fontsize of the tick labels\n",
    "plt.rc('ytick', labelsize=SMALL_SIZE)    # fontsize of the tick labels\n",
    "plt.rc('legend', fontsize=SMALL_SIZE)    # legend fontsize\n",
    "plt.rc('figure', titlesize=BIGGER_SIZE)  # fontsize of the figure title\n",
    "plt.figure(1)\n",
    "plt.plot([0, 1], [0, 1], 'k--')\n",
    "plt.plot(fpr_keras, tpr_keras, label='Doc2Vec (area = {:.3f})'.format(auc_keras))\n",
    "plt.xlabel('False positive rate')\n",
    "plt.ylabel('True positive rate')\n",
    "plt.title('ROC curve')\n",
    "plt.legend(loc='best')\n",
    "plt.show()"
   ]
  },
  {
   "cell_type": "code",
   "execution_count": 166,
   "metadata": {},
   "outputs": [
    {
     "name": "stdout",
     "output_type": "stream",
     "text": [
      "              precision    recall  f1-score   support\n",
      "\n",
      "           0       0.43      0.07      0.12        84\n",
      "           1       0.45      0.89      0.60        72\n",
      "\n",
      "   micro avg       0.45      0.45      0.45       156\n",
      "   macro avg       0.44      0.48      0.36       156\n",
      "weighted avg       0.44      0.45      0.34       156\n",
      "\n"
     ]
    }
   ],
   "source": [
    "report = classification_report(y_test, predict)\n",
    "print(report)"
   ]
  },
  {
   "cell_type": "code",
   "execution_count": 3,
   "metadata": {},
   "outputs": [],
   "source": [
    "def show_confusion_matrix(confusion_matrix):\n",
    "    SMALL_SIZE = 14\n",
    "    MEDIUM_SIZE = 17\n",
    "    BIGGER_SIZE = 50\n",
    "\n",
    "    plt.rc('font', size=SMALL_SIZE)          # controls default text sizes\n",
    "    plt.rc('axes', titlesize=SMALL_SIZE)     # fontsize of the axes title\n",
    "    plt.rc('axes', labelsize=MEDIUM_SIZE)    # fontsize of the x and y labels\n",
    "    plt.rc('xtick', labelsize=SMALL_SIZE)    # fontsize of the tick labels\n",
    "    plt.rc('ytick', labelsize=SMALL_SIZE)    # fontsize of the tick labels\n",
    "    plt.rc('legend', fontsize=SMALL_SIZE)    # legend fontsize\n",
    "    plt.rc('figure', titlesize=BIGGER_SIZE)  # fontsize of the figure title\n",
    "    ax = plt.subplot()\n",
    "    confusion_matrix = normalize(confusion_matrix, axis=1, norm='l1')\n",
    "    sns.heatmap(confusion_matrix ,annot=True, ax = ax, cmap='Reds')\n",
    "    ax.set_xlabel('Predicted Labels')\n",
    "    ax.set_ylabel('True Labels')\n",
    "    ax.set_title('Confusion Matrix', fontsize=23)\n",
    "    ax.xaxis.set_ticklabels(['Normal', 'Colitis'])\n",
    "    ax.yaxis.set_ticklabels(['Normal', 'Colitis'], va='center')\n",
    "    #plt.matshow(confusion_matrix_array)\n",
    "    #plt.colorbar()\n",
    "    plt.show()"
   ]
  },
  {
   "cell_type": "code",
   "execution_count": 4,
   "metadata": {},
   "outputs": [
    {
     "data": {
      "image/png": "[encoded data removed]",
      "text/plain": [
       "<Figure size 432x288 with 2 Axes>"
      ]
     },
     "metadata": {
      "needs_background": "light"
     },
     "output_type": "display_data"
    }
   ],
   "source": [
    "precision=0.6508044733\n",
    "recall=0.657143\n",
    "neg = 700\n",
    "pos = 79\n",
    "tp = pos * recall\n",
    "fn = pos - tp\n",
    "fp = (tp - precision * tp)/precision\n",
    "tn = neg-fp\n",
    "show_confusion_matrix([[tn, fp], [fn, tp]])"
   ]
  },
  {
   "cell_type": "code",
   "execution_count": 126,
   "metadata": {},
   "outputs": [],
   "source": [
    "def accuracy(predict, validation):\n",
    "    total = validation.shape[0]\n",
    "    correct = 0\n",
    "    for i in range(predict.shape[0]):\n",
    "        if predict[i] == validation[i]:\n",
    "            correct += 1\n",
    "    return correct/total"
   ]
  },
  {
   "cell_type": "code",
   "execution_count": 127,
   "metadata": {
    "pycharm": {
     "name": "#%%\n"
    }
   },
   "outputs": [
    {
     "data": {
      "text/plain": [
       "0.5705128205128205"
      ]
     },
     "execution_count": 127,
     "metadata": {},
     "output_type": "execute_result"
    }
   ],
   "source": [
    "predict_thresh = np.where(predict > 0.4, 1, 0)\n",
    "accuracy(predict_thresh, y_test)\n",
    "\n",
    "\n"
   ]
  }
 ],
 "metadata": {
  "kernelspec": {
   "display_name": "Python 3",
   "language": "python",
   "name": "python3"
  },
  "language_info": {
   "codemirror_mode": {
    "name": "ipython",
    "version": 3
   },
   "file_extension": ".py",
   "mimetype": "text/x-python",
   "name": "python",
   "nbconvert_exporter": "python",
   "pygments_lexer": "ipython3",
   "version": "3.5.2"
  }
 },
 "nbformat": 4,
 "nbformat_minor": 2
}