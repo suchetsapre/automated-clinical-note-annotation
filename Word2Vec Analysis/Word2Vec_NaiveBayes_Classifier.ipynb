{
 "cells": [
  {
   "cell_type": "code",
   "execution_count": null,
   "outputs": [],
   "source": [
    "import numpy as np\n",
    "import matplotlib.pyplot as plt\n",
    "from sklearn.naive_bayes import GaussianNB\n",
    "from sklearn import metrics\n",
    "from sklearn.metrics import confusion_matrix\n",
    "from sklearn.metrics import classification_report\n",
    "from sklearn.model_selection import train_test_split\n",
    "import seaborn as sns\n",
    "from sklearn.preprocessing import normalize\n",
    "import pickle"
   ],
   "metadata": {
    "collapsed": false,
    "pycharm": {
     "name": "#%%\n"
    }
   }
  },
  {
   "cell_type": "code",
   "execution_count": null,
   "outputs": [],
   "source": [
    "with open('Word2Vec_X_data_colitis.pkl', 'rb') as f:\n",
    "    X_data = pickle.load(f)\n",
    "with open('Word2Vec_y_data_colitis.pkl', 'rb') as f:\n",
    "    y_data = pickle.load(f)\n",
    "with open('Word2Vec_embedding_matrix_colitis.pkl', 'rb') as f:\n",
    "    embedding_matrix = pickle.load(f)\n",
    "with open('Word2Vec_X_data_colitis_average.pkl', 'rb') as f:\n",
    "    X_data_embedded = pickle.load(f)"
   ],
   "metadata": {
    "collapsed": false,
    "pycharm": {
     "name": "#%%\n"
    }
   }
  },
  {
   "cell_type": "code",
   "execution_count": null,
   "outputs": [],
   "source": [
    "X_data"
   ],
   "metadata": {
    "collapsed": false,
    "pycharm": {
     "name": "#%%\n"
    }
   }
  },
  {
   "cell_type": "code",
   "execution_count": 4,
   "metadata": {},
   "outputs": [],
   "source": [
    "'''X_data_embedded = []\n",
    "for row in range(X_data.shape[0]):\n",
    "    summed_vector = np.zeros(150)\n",
    "    for col in range(X_data.shape[1]):\n",
    "        summed_vector = np.add(embedding_matrix[X_data[row][col]], summed_vector)\n",
    "    summed_vector = np.true_divide(summed_vector, X_data.shape[1])\n",
    "    X_data_embedded.append(summed_vector)\n",
    "X_data_embedded = np.asarray(X_data_embedded)'''"
   ]
  },
  {
   "cell_type": "code",
   "execution_count": null,
   "metadata": {},
   "outputs": [],
   "source": []
  },
  {
   "cell_type": "code",
   "execution_count": 42,
   "metadata": {},
   "outputs": [],
   "source": [
    "'''with open('Word2Vec_X_data_colitis_average.pkl', 'wb') as f:\n",
    "    pickle.dump(X_data_embedded, f)'''"
   ]
  },
  {
   "cell_type": "code",
   "execution_count": 137,
   "metadata": {},
   "outputs": [],
   "source": [
    "X_train, X_test, y_train, y_test = train_test_split(X_data_embedded, y_data, test_size=0.2)"
   ]
  },
  {
   "cell_type": "code",
   "execution_count": 138,
   "metadata": {},
   "outputs": [
    {
     "data": {
      "text/plain": [
       "64"
      ]
     },
     "execution_count": 138,
     "metadata": {},
     "output_type": "execute_result"
    }
   ],
   "source": [
    "list(y_train).count(1)"
   ]
  },
  {
   "cell_type": "code",
   "execution_count": 205,
   "metadata": {},
   "outputs": [],
   "source": [
    "def smart_sample(X_train, y_train, num_positive, num_negative):\n",
    "    X_train_positives = np.asarray([X_train[i] for i in range(X_train.shape[0]) if y_train[i] == 1])\n",
    "    y_train_positives = np.asarray([y_train[i] for i in range(y_train.shape[0]) if y_train[i] == 1])\n",
    "    X_train_negatives = np.asarray([X_train[i] for i in range(X_train.shape[0]) if y_train[i] == 0])\n",
    "    y_train_negatives = np.asarray([y_train[i] for i in range(y_train.shape[0]) if y_train[i] == 0])\n",
    "    \n",
    "    percent_positive = num_positive/X_train_positives.shape[0]\n",
    "    percent_negative = num_negative/X_train_negatives.shape[0]\n",
    "    \n",
    "    mask_positive = np.random.choice([False, True], len(X_train_positives), p=[1-percent_positive, percent_positive])\n",
    "    mask_negative = np.random.choice([False, True], len(X_train_negatives), p=[1-percent_negative, percent_negative])\n",
    "    \n",
    "    X_train_positives_sampled = X_train_positives[mask_positive]\n",
    "    y_train_positives_sampled = y_train_positives[mask_positive]\n",
    "    X_train_negatives_sampled = X_train_negatives[mask_negative]\n",
    "    y_train_negatives_sampled = y_train_negatives[mask_negative]\n",
    "    \n",
    "    X_data_smart_sampled = np.concatenate((X_train_positives_sampled, X_train_negatives_sampled), axis=0)\n",
    "    y_data_smart_sampled = np.concatenate((y_train_positives_sampled, y_train_negatives_sampled), axis=0)\n",
    "    \n",
    "    data_sampled = np.column_stack( (X_data_smart_sampled, y_data_smart_sampled) )\n",
    "    np.random.shuffle(data_sampled)\n",
    "    X_train_sampled, y_train_sampled = data_sampled[:, 0 : data_sampled.shape[1]-1], data_sampled[:, data_sampled.shape[1]-1].ravel()\n",
    "\n",
    "    return X_train_sampled, y_train_sampled\n",
    "\n",
    "X_train_sampled, y_train_sampled = smart_sample(X_train, y_train, 64, 81)   "
   ]
  },
  {
   "cell_type": "code",
   "execution_count": 206,
   "metadata": {},
   "outputs": [],
   "source": [
    "gnb = GaussianNB()"
   ]
  },
  {
   "cell_type": "code",
   "execution_count": 207,
   "metadata": {},
   "outputs": [
    {
     "data": {
      "text/plain": [
       "GaussianNB(priors=None, var_smoothing=1e-09)"
      ]
     },
     "execution_count": 207,
     "metadata": {},
     "output_type": "execute_result"
    }
   ],
   "source": [
    "gnb.fit(X_train_sampled, y_train_sampled)"
   ]
  },
  {
   "cell_type": "code",
   "execution_count": 208,
   "metadata": {},
   "outputs": [],
   "source": [
    "y_pred = gnb.predict(X_test)"
   ]
  },
  {
   "cell_type": "code",
   "execution_count": 209,
   "metadata": {},
   "outputs": [
    {
     "data": {
      "text/plain": [
       "array([1, 0, 0, 0, 0, 1, 0, 0, 0, 0, 0, 0, 0, 1, 0, 0, 0, 0, 0, 0, 0, 0,\n",
       "       0, 0, 0, 0, 0, 0, 0, 0, 0, 1, 0, 0, 0, 0, 0, 0, 0, 0, 0, 0, 0, 0,\n",
       "       0, 0, 0, 0, 0, 0, 0, 0, 0, 0, 0, 0, 0, 0, 0, 0, 0, 0, 0, 0, 0, 0,\n",
       "       0, 0, 0, 0, 0, 0, 0, 1, 0, 0, 0, 0, 1, 1, 0, 0, 0, 0, 1, 0, 0, 0,\n",
       "       0, 0, 0, 0, 1, 0, 0, 0, 0, 0, 0, 0, 1, 0, 1, 0, 1, 0, 0, 0, 0, 0,\n",
       "       0, 0, 1, 0, 0, 1, 0, 0, 1, 1, 1, 1, 0, 1, 0, 1, 0, 0, 0, 0, 0, 0,\n",
       "       0, 0, 0, 0, 0, 0, 0, 0, 0, 0, 0, 0, 0, 0, 0, 0, 0, 0, 0, 0, 0, 0,\n",
       "       0, 0])"
      ]
     },
     "execution_count": 209,
     "metadata": {},
     "output_type": "execute_result"
    }
   ],
   "source": [
    "y_pred.astype(int)"
   ]
  },
  {
   "cell_type": "code",
   "execution_count": 210,
   "metadata": {},
   "outputs": [
    {
     "data": {
      "text/plain": [
       "array([0, 1, 0, 0, 0, 1, 0, 0, 0, 0, 0, 0, 0, 0, 0, 0, 0, 0, 0, 0, 0, 0,\n",
       "       0, 0, 0, 0, 0, 0, 0, 0, 0, 0, 0, 0, 0, 0, 0, 0, 0, 0, 0, 0, 0, 1,\n",
       "       0, 0, 0, 1, 0, 0, 0, 0, 1, 0, 0, 0, 0, 0, 0, 0, 0, 0, 0, 0, 0, 0,\n",
       "       0, 0, 0, 0, 0, 0, 1, 1, 0, 0, 0, 0, 0, 0, 0, 0, 0, 0, 0, 0, 0, 0,\n",
       "       1, 0, 0, 0, 0, 0, 0, 0, 0, 0, 1, 1, 1, 0, 1, 0, 1, 0, 0, 0, 0, 0,\n",
       "       0, 0, 0, 0, 0, 0, 1, 0, 0, 0, 0, 0, 0, 0, 0, 0, 0, 0, 0, 0, 0, 1,\n",
       "       0, 0, 0, 0, 0, 0, 0, 0, 0, 0, 0, 0, 0, 0, 0, 0, 0, 0, 0, 0, 0, 0,\n",
       "       0, 0], dtype=int64)"
      ]
     },
     "execution_count": 210,
     "metadata": {},
     "output_type": "execute_result"
    }
   ],
   "source": [
    "y_test"
   ]
  },
  {
   "cell_type": "code",
   "execution_count": 211,
   "metadata": {},
   "outputs": [
    {
     "name": "stdout",
     "output_type": "stream",
     "text": [
      "Accuracy: 0.8397435897435898\n"
     ]
    }
   ],
   "source": [
    "print(\"Accuracy:\",metrics.accuracy_score(y_test, y_pred))"
   ]
  },
  {
   "cell_type": "code",
   "execution_count": 212,
   "metadata": {},
   "outputs": [
    {
     "data": {
      "text/plain": [
       "array([[126,  15],\n",
       "       [ 10,   5]], dtype=int64)"
      ]
     },
     "execution_count": 212,
     "metadata": {},
     "output_type": "execute_result"
    }
   ],
   "source": [
    "confusion_matrix(y_test, y_pred)"
   ]
  },
  {
   "cell_type": "code",
   "execution_count": 213,
   "metadata": {},
   "outputs": [
    {
     "name": "stdout",
     "output_type": "stream",
     "text": [
      "              precision    recall  f1-score   support\n",
      "\n",
      "           0       0.93      0.89      0.91       141\n",
      "           1       0.25      0.33      0.29        15\n",
      "\n",
      "   micro avg       0.84      0.84      0.84       156\n",
      "   macro avg       0.59      0.61      0.60       156\n",
      "weighted avg       0.86      0.84      0.85       156\n",
      "\n"
     ]
    }
   ],
   "source": [
    "print(classification_report(y_test, y_pred))"
   ]
  },
  {
   "cell_type": "code",
   "execution_count": 214,
   "metadata": {},
   "outputs": [],
   "source": [
    "def show_confusion_matrix(confusion_matrix):\n",
    "    SMALL_SIZE = 14\n",
    "    MEDIUM_SIZE = 17\n",
    "    BIGGER_SIZE = 50\n",
    "\n",
    "    plt.rc('font', size=SMALL_SIZE)          # controls default text sizes\n",
    "    plt.rc('axes', titlesize=SMALL_SIZE)     # fontsize of the axes title\n",
    "    plt.rc('axes', labelsize=MEDIUM_SIZE)    # fontsize of the x and y labels\n",
    "    plt.rc('xtick', labelsize=SMALL_SIZE)    # fontsize of the tick labels\n",
    "    plt.rc('ytick', labelsize=SMALL_SIZE)    # fontsize of the tick labels\n",
    "    plt.rc('legend', fontsize=SMALL_SIZE)    # legend fontsize\n",
    "    plt.rc('figure', titlesize=BIGGER_SIZE)  # fontsize of the figure title\n",
    "    ax = plt.subplot()\n",
    "    confusion_matrix = normalize(confusion_matrix, axis=1, norm='l1')\n",
    "    sns.heatmap(confusion_matrix ,annot=True, ax = ax, cmap='Reds')\n",
    "    ax.set_xlabel('Predicted Labels')\n",
    "    ax.set_ylabel('True Labels')\n",
    "    ax.set_title('Confusion Matrix', fontsize=23)\n",
    "    ax.xaxis.set_ticklabels(['Normal', 'Colitis'])\n",
    "    ax.yaxis.set_ticklabels(['Normal', 'Colitis'], va='center')\n",
    "    #plt.matshow(confusion_matrix_array)\n",
    "    #plt.colorbar()\n",
    "    plt.show()"
   ]
  },
  {
   "cell_type": "code",
   "execution_count": 215,
   "metadata": {},
   "outputs": [
    {
     "data": {
      "image/png": "[encoded data removed]",
      "text/plain": [
       "<Figure size 432x288 with 2 Axes>"
      ]
     },
     "metadata": {
      "needs_background": "light"
     },
     "output_type": "display_data"
    }
   ],
   "source": [
    "show_confusion_matrix(confusion_matrix(y_test, y_pred))"
   ]
  },
  {
   "cell_type": "code",
   "execution_count": null,
   "metadata": {},
   "outputs": [],
   "source": []
  },
  {
   "cell_type": "code",
   "execution_count": null,
   "metadata": {},
   "outputs": [],
   "source": []
  }
 ],
 "metadata": {
  "kernelspec": {
   "display_name": "Python 3",
   "language": "python",
   "name": "python3"
  },
  "language_info": {
   "codemirror_mode": {
    "name": "ipython",
    "version": 3
   },
   "file_extension": ".py",
   "mimetype": "text/x-python",
   "name": "python",
   "nbconvert_exporter": "python",
   "pygments_lexer": "ipython3",
   "version": "3.5.2"
  }
 },
 "nbformat": 4,
 "nbformat_minor": 2
}