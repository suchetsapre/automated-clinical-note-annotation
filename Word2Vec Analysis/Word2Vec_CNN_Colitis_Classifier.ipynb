{
 "cells": [
  {
   "cell_type": "code",
   "execution_count": 1,
   "metadata": {
    "colab": {},
    "colab_type": "code",
    "id": "xTbO-YsBaTPG"
   },
   "outputs": [
    {
     "name": "stderr",
     "output_type": "stream",
     "text": [
      "Using TensorFlow backend.\n",
      "C:\\app\\Anaconda3\\lib\\site-packages\\gensim\\utils.py:1197: UserWarning: detected Windows; aliasing chunkize to chunkize_serial\n",
      "  warnings.warn(\"detected Windows; aliasing chunkize to chunkize_serial\")\n"
     ]
    }
   ],
   "source": [
    "import keras\n",
    "import numpy as np\n",
    "from sklearn.model_selection import train_test_split\n",
    "import matplotlib.pyplot as plt\n",
    "import pickle\n",
    "from tensorflow.keras.models import Sequential\n",
    "from tensorflow.keras import layers\n",
    "from sklearn.metrics import classification_report\n",
    "from sklearn.metrics import confusion_matrix\n",
    "from sklearn.metrics import roc_curve\n",
    "from sklearn.metrics import auc\n",
    "import seaborn as sns\n",
    "from sklearn.preprocessing import normalize\n",
    "from keras.wrappers.scikit_learn import KerasClassifier\n",
    "from sklearn.model_selection import cross_validate"
   ]
  },
  {
   "cell_type": "code",
   "execution_count": null,
   "outputs": [],
   "source": [
    "with open('Word2Vec_X_data_colitis.pkl', 'rb') as f:\n",
    "    X_data = pickle.load(f)\n",
    "with open('Word2Vec_y_data_colitis.pkl', 'rb') as f:\n",
    "    y_data = pickle.load(f)\n",
    "with open('Word2Vec_embedding_matrix_colitis.pkl', 'rb') as f:\n",
    "    embedding_matrix = pickle.load(f)"
   ],
   "metadata": {
    "collapsed": false,
    "pycharm": {
     "name": "#%%\n"
    }
   }
  },
  {
   "cell_type": "code",
   "execution_count": null,
   "outputs": [],
   "source": [
    "X_train, X_test, y_train, y_test = train_test_split(X_data, y_data, test_size=0.2)"
   ],
   "metadata": {
    "collapsed": false,
    "pycharm": {
     "name": "#%%\n"
    }
   }
  },
  {
   "cell_type": "code",
   "execution_count": null,
   "outputs": [],
   "source": [
    "def plot_history(history):\n",
    "    \"\"\" A method taken from https://realpython.com/python-keras-text-classification/#what-is-a-word-embedding that\n",
    "        effectively plots the training and validation accuracy and loss data and diplays it. \"\"\"\n",
    "    acc = history.history['acc']\n",
    "    val_acc = history.history['val_acc']\n",
    "    loss = history.history['loss']\n",
    "    val_loss = history.history['val_loss']\n",
    "    x = range(1, len(acc) + 1)\n",
    "    plt.figure(figsize=(12, 5))\n",
    "    plt.subplot(1, 2, 1)\n",
    "    plt.plot(x, acc, 'b', label='Training acc')\n",
    "    plt.plot(x, val_acc, 'r', label='Validation acc')\n",
    "    plt.title('Training and validation accuracy')\n",
    "    plt.legend()\n",
    "    plt.subplot(1, 2, 2)\n",
    "    plt.plot(x, loss, 'b', label='Training loss')\n",
    "    plt.plot(x, val_loss, 'r', label='Validation loss')\n",
    "    plt.title('Training and validation loss')\n",
    "    plt.legend()"
   ],
   "metadata": {
    "collapsed": false,
    "pycharm": {
     "name": "#%%\n"
    }
   }
  },
  {
   "cell_type": "code",
   "execution_count": null,
   "metadata": {
    "colab": {},
    "colab_type": "code",
    "id": "wIRkcOK3dAUI"
   },
   "outputs": [],
   "source": [
    "vocab_size = 6454\n",
    "embedding_dim = 150\n",
    "maxlen = 11976\n",
    "num_filters = 400\n",
    "window_size =5"
   ]
  },
  {
   "cell_type": "code",
   "execution_count": 85,
   "metadata": {
    "colab": {
     "base_uri": "https://localhost:8080/",
     "height": 369
    },
    "colab_type": "code",
    "id": "iU37HxfddAW_",
    "outputId": "545ab5bb-5832-4699-f105-010434870d48"
   },
   "outputs": [
    {
     "name": "stdout",
     "output_type": "stream",
     "text": [
      "Model: \"sequential_16\"\n",
      "_________________________________________________________________\n",
      "Layer (type)                 Output Shape              Param #   \n",
      "=================================================================\n",
      "embedding_16 (Embedding)     (None, 11976, 150)        968100    \n",
      "_________________________________________________________________\n",
      "conv1d_15 (Conv1D)           (None, 11976, 400)        300400    \n",
      "_________________________________________________________________\n",
      "global_max_pooling1d_15 (Glo (None, 400)               0         \n",
      "_________________________________________________________________\n",
      "dense_30 (Dense)             (None, 30)                12030     \n",
      "_________________________________________________________________\n",
      "dropout_15 (Dropout)         (None, 30)                0         \n",
      "_________________________________________________________________\n",
      "dense_31 (Dense)             (None, 1)                 31        \n",
      "=================================================================\n",
      "Total params: 1,280,561\n",
      "Trainable params: 1,280,561\n",
      "Non-trainable params: 0\n",
      "_________________________________________________________________\n"
     ]
    }
   ],
   "source": [
    "#Creation of the neural network with the pretrained embedding matrix.\n",
    "model_with_embedding = Sequential()\n",
    "model_with_embedding.add(layers.Embedding(vocab_size, embedding_dim, \n",
    "                           weights=[embedding_matrix], \n",
    "                           input_length=maxlen, \n",
    "                           trainable=True))\n",
    "#model_with_embedding.add(layers.GlobalMaxPool1D())\n",
    "model_with_embedding.add(layers.Conv1D(num_filters, window_size, activation='relu', padding='same'))\n",
    "model_with_embedding.add(layers.GlobalMaxPooling1D())\n",
    "model_with_embedding.add(layers.Dense(30, activation='relu'))\n",
    "model_with_embedding.add(layers.Dropout(0.5))\n",
    "model_with_embedding.add(layers.Dense(1, activation='sigmoid'))\n",
    "model_with_embedding.compile(optimizer='adam',\n",
    "              loss='binary_crossentropy',\n",
    "              metrics=['accuracy'])\n",
    "model_with_embedding.summary()"
   ]
  },
  {
   "cell_type": "code",
   "execution_count": 125,
   "metadata": {
    "colab": {
     "base_uri": "https://localhost:8080/",
     "height": 90
    },
    "colab_type": "code",
    "id": "VebTEUBXdAaI",
    "outputId": "24245074-d177-4c93-bbcd-147d1658ac2e"
   },
   "outputs": [
    {
     "name": "stdout",
     "output_type": "stream",
     "text": [
      "Train on 623 samples, validate on 156 samples\n",
      "623/623 [==============================] - 7s 12ms/sample - loss: 0.2379 - acc: 0.9647 - val_loss: 0.1635 - val_acc: 0.9423\n"
     ]
    },
    {
     "data": {
      "text/plain": [
       "\"THR = 0.20\\nfor i in range(50):\\n    curr_history = model_with_embedding.fit(X_train, y_train,\\n                    batch_size=32,\\n                    epochs=1,\\n                    verbose=1,\\n                    validation_data=(X_test, y_test),\\n                    class_weight=class_weights)\\n    val_loss = curr_history.history['val_loss'][0]\\n    val_acc = curr_history.history['val_acc'][0]\\n    if val_acc > 0.945 or val_loss < THR:\\n        break\""
      ]
     },
     "execution_count": 125,
     "metadata": {
      "tags": []
     },
     "output_type": "execute_result"
    }
   ],
   "source": [
    "class_weights = {0 : 1,\n",
    "                1 : 10}\n",
    "history = model_with_embedding.fit(X_train, y_train,\n",
    "                    batch_size=32,\n",
    "                    epochs=1,\n",
    "                    verbose=1,\n",
    "                    validation_data=(X_test, y_test),\n",
    "                    class_weight=class_weights)\n",
    "'''THR = 0.20\n",
    "for i in range(50):\n",
    "    curr_history = model_with_embedding.fit(X_train, y_train,\n",
    "                    batch_size=32,\n",
    "                    epochs=1,\n",
    "                    verbose=1,\n",
    "                    validation_data=(X_test, y_test),\n",
    "                    class_weight=class_weights)\n",
    "    val_loss = curr_history.history['val_loss'][0]\n",
    "    val_acc = curr_history.history['val_acc'][0]\n",
    "    if val_acc > 0.945 or val_loss < THR:\n",
    "        break'''"
   ]
  },
  {
   "cell_type": "code",
   "execution_count": 88,
   "metadata": {
    "colab": {
     "base_uri": "https://localhost:8080/",
     "height": 336
    },
    "colab_type": "code",
    "id": "4mqGo5qvdQh8",
    "outputId": "36bc8e0a-1ddd-494c-9ebc-257a3fcda6f1"
   },
   "outputs": [
    {
     "data": {
      "image/png": "[encoded data removed]",
      "text/plain": [
       "<Figure size 864x360 with 2 Axes>"
      ]
     },
     "metadata": {
      "tags": []
     },
     "output_type": "display_data"
    }
   ],
   "source": [
    "plot_history(history)"
   ]
  },
  {
   "cell_type": "code",
   "execution_count": 126,
   "metadata": {
    "colab": {
     "base_uri": "https://localhost:8080/",
     "height": 88
    },
    "colab_type": "code",
    "id": "ykkCFPixdAdm",
    "outputId": "6678adf0-eaf7-4052-aef3-8eada16e5b4f"
   },
   "outputs": [
    {
     "name": "stdout",
     "output_type": "stream",
     "text": [
      "{'0': {'precision': 0.9577464788732394, 'recall': 0.9784172661870504, 'f1-score': 0.9679715302491103, 'support': 139}, '1': {'precision': 0.7857142857142857, 'recall': 0.6470588235294118, 'f1-score': 0.7096774193548386, 'support': 17}, 'accuracy': 0.9423076923076923, 'macro avg': {'precision': 0.8717303822937625, 'recall': 0.8127380448582311, 'f1-score': 0.8388244748019744, 'support': 156}, 'weighted avg': {'precision': 0.9389993809007894, 'recall': 0.9423076923076923, 'f1-score': 0.9398240950875552, 'support': 156}}\n",
      "[[136   3]\n",
      " [  6  11]]\n"
     ]
    }
   ],
   "source": [
    "thresh = 0.5\n",
    "y_pred = np.around(model_with_embedding.predict(X_test, batch_size=16), decimals=4)\n",
    "y_pred_thresh = np.asarray([1 if y_pred[i] > thresh else 0 for i in range(len(y_pred))])\n",
    "\n",
    "print(classification_report(y_test, y_pred_thresh, output_dict=True))\n",
    "\n",
    "print(confusion_matrix(y_test, y_pred_thresh))"
   ]
  },
  {
   "cell_type": "code",
   "execution_count": null,
   "metadata": {
    "colab": {},
    "colab_type": "code",
    "id": "5nOlp7PSgina"
   },
   "outputs": [],
   "source": [
    "#model_with_embedding.save('word2vec_cnn_classifier_07_05_2019.h5') "
   ]
  },
  {
   "cell_type": "code",
   "execution_count": 82,
   "metadata": {
    "colab": {
     "base_uri": "https://localhost:8080/",
     "height": 295
    },
    "colab_type": "code",
    "id": "8FwzRPX0dT8g",
    "outputId": "2269ce21-e8d2-454d-bbc7-38b6671b33cb"
   },
   "outputs": [
    {
     "data": {
      "image/png": "[encoded data removed]",
      "text/plain": [
       "<Figure size 432x288 with 1 Axes>"
      ]
     },
     "metadata": {
      "tags": []
     },
     "output_type": "display_data"
    }
   ],
   "source": [
    "y_pred_keras = y_pred_thresh.ravel()\n",
    "fpr_keras, tpr_keras, thresholds_keras = roc_curve(y_test, y_pred_keras)\n",
    "auc_keras = auc(fpr_keras, tpr_keras)\n",
    "\n",
    "plt.figure(1)\n",
    "plt.plot([0, 1], [0, 1], 'k--')\n",
    "plt.plot(fpr_keras, tpr_keras, label='Model (area = {:.3f})'.format(auc_keras))\n",
    "plt.xlabel('False positive rate')\n",
    "plt.ylabel('True positive rate')\n",
    "plt.title('ROC curve')\n",
    "plt.legend(loc='best')\n",
    "plt.show()"
   ]
  },
  {
   "cell_type": "code",
   "execution_count": null,
   "metadata": {
    "colab": {},
    "colab_type": "code",
    "id": "E6r-l6ILdUFV"
   },
   "outputs": [],
   "source": [
    "def show_confusion_matrix(confusion_matrix):\n",
    "    SMALL_SIZE = 14\n",
    "    MEDIUM_SIZE = 17\n",
    "    BIGGER_SIZE = 50\n",
    "\n",
    "    plt.rc('font', size=SMALL_SIZE)          # controls default text sizes\n",
    "    plt.rc('axes', titlesize=SMALL_SIZE)     # fontsize of the axes title\n",
    "    plt.rc('axes', labelsize=MEDIUM_SIZE)    # fontsize of the x and y labels\n",
    "    plt.rc('xtick', labelsize=SMALL_SIZE)    # fontsize of the tick labels\n",
    "    plt.rc('ytick', labelsize=SMALL_SIZE)    # fontsize of the tick labels\n",
    "    plt.rc('legend', fontsize=SMALL_SIZE)    # legend fontsize\n",
    "    plt.rc('figure', titlesize=BIGGER_SIZE)  # fontsize of the figure title\n",
    "    ax = plt.subplot()\n",
    "    confusion_matrix = normalize(confusion_matrix, axis=1, norm='l1')\n",
    "    sns.heatmap(confusion_matrix ,annot=True, ax = ax, cmap='Blues')\n",
    "    ax.set_xlabel('Predicted Labels')\n",
    "    ax.set_ylabel('True Labels')\n",
    "    ax.set_title('Confusion Matrix', fontsize=23)\n",
    "    ax.xaxis.set_ticklabels(['Normal', 'Colitis'])\n",
    "    ax.yaxis.set_ticklabels(['Normal', 'Colitis'], va='center')\n",
    "    #plt.matshow(confusion_matrix_array)\n",
    "    #plt.colorbar()\n",
    "    plt.show()"
   ]
  },
  {
   "cell_type": "code",
   "execution_count": 110,
   "metadata": {
    "colab": {
     "base_uri": "https://localhost:8080/",
     "height": 315
    },
    "colab_type": "code",
    "id": "euukMJBGqRq2",
    "outputId": "0609acc9-55f7-4609-ce7c-a768e3bd1316"
   },
   "outputs": [
    {
     "data": {
      "image/png": "[encoded data removed]",
      "text/plain": [
       "<Figure size 432x288 with 2 Axes>"
      ]
     },
     "metadata": {
      "tags": []
     },
     "output_type": "display_data"
    }
   ],
   "source": [
    "show_confusion_matrix(confusion_matrix(y_test, y_pred))"
   ]
  },
  {
   "cell_type": "code",
   "execution_count": null,
   "metadata": {
    "colab": {},
    "colab_type": "code",
    "id": "d0Ugl6c4qS43"
   },
   "outputs": [],
   "source": [
    "def create_network_with_embedding():\n",
    "    vocab_size = 6454\n",
    "    embedding_dim = 150\n",
    "    maxlen = 11976\n",
    "    num_filters = 256\n",
    "    window_size = 5\n",
    "    \n",
    "    \n",
    "    #Creation of the neural network with the pretrained embedding matrix.\n",
    "    model_with_embedding = Sequential()\n",
    "    model_with_embedding.add(layers.Embedding(vocab_size, embedding_dim, \n",
    "                               weights=[embedding_matrix], \n",
    "                               input_length=maxlen, \n",
    "                               trainable=True))\n",
    "    #model_with_embedding.add(layers.GlobalMaxPool1D())\n",
    "    model_with_embedding.add(layers.Conv1D(num_filters, window_size, activation='relu', padding='same'))\n",
    "    model_with_embedding.add(layers.GlobalMaxPooling1D())\n",
    "    model_with_embedding.add(layers.Dense(30, activation='relu'))\n",
    "    model_with_embedding.add(layers.Dropout(0.5))\n",
    "    model_with_embedding.add(layers.Dense(1, activation='sigmoid'))\n",
    "    model_with_embedding.compile(optimizer='adam',\n",
    "                  loss='binary_crossentropy',\n",
    "                  metrics=['accuracy'])\n",
    "    return model_with_embedding"
   ]
  },
  {
   "cell_type": "code",
   "execution_count": null,
   "metadata": {
    "colab": {},
    "colab_type": "code",
    "id": "ezBSenqj58r0"
   },
   "outputs": [],
   "source": [
    "\n",
    "neural_network = KerasClassifier(build_fn=create_network_with_embedding, \n",
    "                                 epochs=30, \n",
    "                                 batch_size=32, \n",
    "                                 verbose=2)"
   ]
  },
  {
   "cell_type": "code",
   "execution_count": null,
   "outputs": [],
   "source": [
    "weights = {0 : 1,\n",
    "           1 : 10}\n",
    "\n",
    "#model checkpoints, early stop mode specify best, argument: mode\n",
    "callback = keras.callbacks.EarlyStopping(monitor='val_loss',\n",
    "                              min_delta=0,\n",
    "                              patience=5,\n",
    "                              verbose=0, mode='auto')\n",
    "\n",
    "score = cross_validate(neural_network, X_data, y_data, cv=5, scoring=['f1', 'precision', 'recall', 'accuracy'], fit_params={'class_weight' : weights, 'callbacks':[callback]})"
   ],
   "metadata": {
    "collapsed": false,
    "pycharm": {
     "name": "#%%\n"
    }
   }
  },
  {
   "cell_type": "code",
   "execution_count": null,
   "outputs": [],
   "source": [
    "np.average(score['test_recall'])"
   ],
   "metadata": {
    "collapsed": false,
    "pycharm": {
     "name": "#%%\n"
    }
   }
  },
  {
   "cell_type": "code",
   "execution_count": null,
   "outputs": [],
   "source": [
    "score"
   ],
   "metadata": {
    "collapsed": false,
    "pycharm": {
     "name": "#%%\n"
    }
   }
  },
  {
   "cell_type": "code",
   "execution_count": null,
   "metadata": {
    "colab": {},
    "colab_type": "code",
    "id": "7x4tWykr_gd0"
   },
   "outputs": [],
   "source": []
  }
 ],
 "metadata": {
  "accelerator": "GPU",
  "colab": {
   "collapsed_sections": [],
   "name": "Word2Vec_CNN_Colitis_Classifier.ipynb",
   "provenance": [],
   "version": "0.3.2"
  },
  "kernelspec": {
   "display_name": "Python 3",
   "language": "python",
   "name": "python3"
  },
  "language_info": {
   "codemirror_mode": {
    "name": "ipython",
    "version": 3
   },
   "file_extension": ".py",
   "mimetype": "text/x-python",
   "name": "python",
   "nbconvert_exporter": "python",
   "pygments_lexer": "ipython3",
   "version": "3.7.3"
  }
 },
 "nbformat": 4,
 "nbformat_minor": 2
}