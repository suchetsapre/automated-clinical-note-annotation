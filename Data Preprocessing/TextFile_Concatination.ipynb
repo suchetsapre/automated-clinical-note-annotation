{
 "cells": [
  {
   "cell_type": "code",
   "execution_count": 1,
   "metadata": {},
   "outputs": [
    {
     "name": "stderr",
     "output_type": "stream",
     "text": [
      "C:\\app\\Anaconda3\\lib\\site-packages\\gensim\\utils.py:1197: UserWarning: detected Windows; aliasing chunkize to chunkize_serial\n",
      "  warnings.warn(\"detected Windows; aliasing chunkize to chunkize_serial\")\n"
     ]
    }
   ],
   "source": [
    "import os"
   ]
  },
  {
   "cell_type": "code",
   "execution_count": 2,
   "metadata": {},
   "outputs": [],
   "source": [
    "input_folder_path = \"\" # path to input folder \"notes\"\n",
    "output_folder_path = \"\" # path to output folder \"condensed_notes\""
   ]
  },
  {
   "cell_type": "code",
   "execution_count": 3,
   "metadata": {},
   "outputs": [],
   "source": [
    "def concatenate_text_files(in_folder_path, out_folder_path):\n",
    "    top_directory = os.fsencode(in_folder_path)\n",
    "    prev_patient_number = -1\n",
    "    num_notes = 0\n",
    "    for i, folder in enumerate(os.listdir(top_directory)):\n",
    "        decoded_folder_name = os.fsdecode(folder)\n",
    "        patient_number = int(decoded_folder_name)\n",
    "        folder_path = in_folder_path + '/' + decoded_folder_name\n",
    "        new_text_file_name = out_folder_path + '/' + str(patient_number) + '.txt'\n",
    "        new_text_file_towrite = open(new_text_file_name, 'wb')\n",
    "        folder_path_encoded = os.fsencode(folder_path)\n",
    "        for j, file in enumerate(os.listdir(folder_path_encoded)):\n",
    "            decoded_file_name = os.fsdecode(file)\n",
    "            text_file_toread = folder_path + '/' + decoded_file_name\n",
    "            num_notes += 1\n",
    "            with open(text_file_toread, 'rb') as f:\n",
    "                for k, line in enumerate(f):\n",
    "                    new_text_file_towrite.write(line)\n",
    "        new_text_file_towrite.close()\n",
    "    print(num_notes)"
   ]
  },
  {
   "cell_type": "code",
   "execution_count": 4,
   "metadata": {},
   "outputs": [
    {
     "name": "stdout",
     "output_type": "stream",
     "text": [
      "9908\n"
     ]
    }
   ],
   "source": [
    "concatenate_text_files(input_folder_path, output_folder_path)"
   ]
  },
  {
   "cell_type": "code",
   "execution_count": null,
   "metadata": {},
   "outputs": [],
   "source": []
  }
 ],
 "metadata": {
  "kernelspec": {
   "display_name": "Python 3",
   "language": "python",
   "name": "python3"
  },
  "language_info": {
   "codemirror_mode": {
    "name": "ipython",
    "version": 3
   },
   "file_extension": ".py",
   "mimetype": "text/x-python",
   "name": "python",
   "nbconvert_exporter": "python",
   "pygments_lexer": "ipython3",
   "version": "3.7.3"
  }
 },
 "nbformat": 4,
 "nbformat_minor": 2
}