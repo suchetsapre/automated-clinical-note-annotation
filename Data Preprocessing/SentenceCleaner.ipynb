{
 "cells": [
  {
   "cell_type": "code",
   "execution_count": 3,
   "metadata": {},
   "outputs": [],
   "source": [
    "import re\n",
    "\n",
    "colitis_patt = r'\\b(colitis|diarrhea|abdominal pains?|loose bowel movements?|(increase|increased) frequency of stools?|blood in stool|nausea|vomiting)\\b'\n",
    "tox_patts = [colitis_patt]\n",
    "\n",
    "def match_tox_and_get_reduced_sent(text):\n",
    "  for tox_patt in tox_patts:\n",
    "    if re.search(tox_patt, text, re.I|re.M):\n",
    "      return text\n",
    "  return \"\""
   ]
  },
  {
   "cell_type": "code",
   "execution_count": 14,
   "metadata": {},
   "outputs": [
    {
     "data": {
      "text/plain": [
       "'Does this actually work!.....abdominal pains...'"
      ]
     },
     "execution_count": 14,
     "metadata": {},
     "output_type": "execute_result"
    }
   ],
   "source": [
    "sentence = 'Does this actually work!.....abdominal pains...'\n",
    "match_tox_and_get_reduced_sent(sentence)"
   ]
  },
  {
   "cell_type": "code",
   "execution_count": null,
   "metadata": {},
   "outputs": [],
   "source": []
  }
 ],
 "metadata": {
  "kernelspec": {
   "display_name": "Python 3",
   "language": "python",
   "name": "python3"
  },
  "language_info": {
   "codemirror_mode": {
    "name": "ipython",
    "version": 3
   },
   "file_extension": ".py",
   "mimetype": "text/x-python",
   "name": "python",
   "nbconvert_exporter": "python",
   "pygments_lexer": "ipython3",
   "version": "3.7.3"
  }
 },
 "nbformat": 4,
 "nbformat_minor": 2
}
